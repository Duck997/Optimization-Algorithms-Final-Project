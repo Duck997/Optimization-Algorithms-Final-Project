{
 "cells": [
  {
   "cell_type": "markdown",
   "metadata": {
    "id": "pr8c5LapuANk"
   },
   "source": [
    "# Import"
   ]
  },
  {
   "cell_type": "code",
   "execution_count": null,
   "metadata": {
    "id": "ddml4C1g9h9v"
   },
   "outputs": [],
   "source": [
    "import numpy as np\n",
    "import math\n",
    "import matplotlib.pyplot as plt"
   ]
  },
  {
   "cell_type": "markdown",
   "metadata": {
    "id": "kSGasIdx7M1V"
   },
   "source": [
    "# Generating linearly separable data"
   ]
  },
  {
   "cell_type": "code",
   "execution_count": null,
   "metadata": {
    "id": "4fwd5FituGmL"
   },
   "outputs": [],
   "source": [
    "n = 8000\n",
    "d = 100\n",
    "tau = 0.1\n",
    "\n",
    "a = np.random.rand(d-1,1)\n",
    "a = a / np.sum(a)\n",
    "\n",
    "X = np.random.rand(n,d - 1) - 0.5\n",
    "X0 = -np.dot(X[:int(n/2)], a) + np.random.rand(int(n/2),1) - tau\n",
    "X1 = -np.dot(X[int(n/2):], a) + np.random.rand(int(n/2),1) + (tau + 1)\n",
    "Xd = np.concatenate((X0, X1), axis=0) \n",
    "X = np.concatenate((X, Xd), axis=1)\n",
    "Y = np.concatenate((-np.ones((int(n/2),1)), np.ones((int(n/2),1))), axis=0)"
   ]
  },
  {
   "cell_type": "code",
   "execution_count": null,
   "metadata": {
    "colab": {
     "base_uri": "https://localhost:8080/"
    },
    "id": "d7JT75udC_w2",
    "outputId": "7789d3d1-02f2-4373-aa3d-3fde2449b4e9"
   },
   "outputs": [],
   "source": [
    "print(X.shape)\n",
    "print(Y.shape)"
   ]
  },
  {
   "cell_type": "code",
   "execution_count": null,
   "metadata": {
    "colab": {
     "base_uri": "https://localhost:8080/",
     "height": 265
    },
    "id": "hjzUoKE6vYC-",
    "outputId": "6c51f378-3d58-4fe1-daf5-b30aeb785e8f"
   },
   "outputs": [],
   "source": [
    "plt.plot(-np.dot(X[:int(n/2),:-1], a), X[:int(n/2), -1], 'r.')\n",
    "plt.plot(-np.dot(X[int(n/2):,:-1], a), X[int(n/2):, -1], 'b.')\n",
    "plt.show()"
   ]
  },
  {
   "cell_type": "code",
   "execution_count": null,
   "metadata": {
    "colab": {
     "base_uri": "https://localhost:8080/"
    },
    "id": "34wgGBHMFzxJ",
    "outputId": "6d90e94b-070a-45ae-d110-9ddb039c02f3"
   },
   "outputs": [],
   "source": [
    "# Compute L\n",
    "print(np.matmul(X.T,X).shape)\n",
    "eigens = np.linalg.eigh(np.matmul(X.T,X))[0]\n",
    "L = eigens[-1] # The eigenvalues in ascending order\n",
    "print(L)"
   ]
  },
  {
   "cell_type": "code",
   "execution_count": null,
   "metadata": {},
   "outputs": [],
   "source": [
    "epochs = 50"
   ]
  },
  {
   "cell_type": "markdown",
   "metadata": {
    "id": "R88IlxMbv25r"
   },
   "source": [
    "# SGD"
   ]
  },
  {
   "cell_type": "code",
   "execution_count": null,
   "metadata": {
    "colab": {
     "base_uri": "https://localhost:8080/",
     "height": 520
    },
    "id": "ToDuQ6id7Z8k",
    "outputId": "8f071196-7b48-4203-bbc4-69d6efb1d96f",
    "scrolled": true
   },
   "outputs": [],
   "source": [
    "def SGD(X, Y, epochs, lr):\n",
    "    n, d = X.shape\n",
    "    w = np.zeros((d,1))\n",
    "    b = 0\n",
    "    losses = []\n",
    "    accs = []\n",
    "    # epoch 0\n",
    "    z = np.dot(X, w) + b\n",
    "    pred = z > 0\n",
    "    pred = pred * 2 - 1\n",
    "    acc = np.mean(pred == Y)\n",
    "    accs.append(acc)\n",
    "    loss = np.mean(np.maximum(0, 1 - Y* z))\n",
    "    losses.append(loss)\n",
    "    \n",
    "    cnt = 0 \n",
    "    for epoch in range(epochs):\n",
    "        for i in range(n):\n",
    "            idx = np.random.randint(n)\n",
    "            x = X[idx]\n",
    "            x = np.expand_dims(x, axis=-1)\n",
    "            y = Y[idx]\n",
    "            J_w = 0\n",
    "            J_b = 0\n",
    "            if y*(np.dot(w.T,x) + b) < 1:    \n",
    "                J_w = -y*x\n",
    "                J_b = -y\n",
    "                cnt += 1\n",
    "            w = w - lr*J_w\n",
    "            b = b - lr*J_b\n",
    "            \n",
    "        z = np.dot(X, w) + b\n",
    "        pred = z > 0\n",
    "        pred = pred * 2 - 1\n",
    "        acc = np.mean(pred == Y)\n",
    "        accs.append(acc)\n",
    "        loss = np.mean(np.maximum(0, 1 - Y* z))\n",
    "        losses.append(loss)\n",
    "        \n",
    "    return losses, accs"
   ]
  },
  {
   "cell_type": "code",
   "execution_count": null,
   "metadata": {
    "colab": {
     "base_uri": "https://localhost:8080/",
     "height": 282
    },
    "id": "MThR39AnD9DS",
    "outputId": "1c3f4c03-23d3-4c3f-93be-0bac6b758ab0"
   },
   "outputs": [],
   "source": [
    "sgd_losses, sgd_accs = SGD(X, Y, epochs, 1/L)\n",
    "print(sgd_losses)\n",
    "print(sgd_accs)"
   ]
  },
  {
   "cell_type": "code",
   "execution_count": null,
   "metadata": {},
   "outputs": [],
   "source": [
    "plt.plot(range(epochs + 1), sgd_losses)\n",
    "plt.yscale('log')\n",
    "plt.legend(['SGD loss'])"
   ]
  },
  {
   "cell_type": "markdown",
   "metadata": {},
   "source": [
    "# Acc-SGD"
   ]
  },
  {
   "cell_type": "code",
   "execution_count": null,
   "metadata": {
    "id": "_WpBHlQsFCgX",
    "scrolled": true
   },
   "outputs": [],
   "source": [
    "def Acc_SGD(X, Y, epochs, rho, tau):\n",
    "    eta = tau / L\n",
    "    n, d = X.shape\n",
    "    X = np.concatenate((X, np.ones((n,1))), axis=1)\n",
    "    w = np.zeros((d+1,1))\n",
    "    b = 0\n",
    "    losses = []\n",
    "    accs = []\n",
    "    # update param\n",
    "    v = np.zeros((d+1,1))\n",
    "    zeta = np.zeros((d+1,1))\n",
    "    gamma = 0\n",
    "    ak = 0\n",
    "    beta = 1 # set mu = 0 (0-strong convex function is a convex function)\n",
    "    \n",
    "    # epoch 0\n",
    "    z = np.dot(X, w) + b\n",
    "    pred = z > 0\n",
    "    pred = pred * 2 - 1\n",
    "    acc = np.mean(pred == Y)\n",
    "    accs.append(acc)\n",
    "    loss = np.mean(np.maximum(0, 1 - Y* z)) # hinge loss for SVM\n",
    "    losses.append(loss)\n",
    "    \n",
    "    for epoch in range(epochs):\n",
    "        for i in range(n):\n",
    "            idx = np.random.randint(n)\n",
    "            x = X[idx]\n",
    "            x = np.expand_dims(x, axis=-1)\n",
    "            y = Y[idx]\n",
    "            # update\n",
    "            gamma = (1 / rho + np.sqrt(1 / rho**2 + 4*gamma**2)) / 2 # Theorem 2\n",
    "            alpha = gamma * eta / (gamma * eta + ak**2) # Theorem 2\n",
    "            ak = gamma * np.sqrt(eta*rho) # Theorem 2\n",
    "            \n",
    "            zeta = alpha * v + (1 - alpha) * w # equation (2)\n",
    "            J_zeta = 0\n",
    "            if y*(np.dot(zeta.T,x) + b) < 1: # hinge loss gradient\n",
    "                J_zeta = -y*x\n",
    "            v = beta * v + (1 - beta) * zeta - gamma * eta * J_zeta # equation (3)\n",
    "            w = zeta - eta * J_zeta # equation (1)\n",
    "            \n",
    "        z = np.dot(X, w) + b\n",
    "        pred = z > 0\n",
    "        pred = pred * 2 - 1\n",
    "        acc = np.mean(pred == Y)\n",
    "        accs.append(acc)\n",
    "        loss = np.mean(np.maximum(0, 1 - Y* z))\n",
    "        losses.append(loss)\n",
    "        \n",
    "    return losses, accs"
   ]
  },
  {
   "cell_type": "code",
   "execution_count": null,
   "metadata": {},
   "outputs": [],
   "source": [
    "tau = 0.1\n",
    "acc_losses_10, acc_accs_10 = Acc_SGD(X, Y, epochs, 1 / tau, tau)\n",
    "print(acc_losses_10)\n",
    "print(acc_accs_10)\n",
    "\n",
    "plt.plot(range(epochs+1), [math.log10(i)  for i in sgd_losses], \"blue\")\n",
    "plt.plot(range(epochs+1), [math.log10(i)  for i in acc_losses_10], \"black\")\n",
    "plt.grid()\n",
    "plt.xlabel('Number of Effective Passes')\n",
    "plt.ylabel('Log-Loss')\n",
    "plt.legend(['SGD', 'Acc-SGD'], loc='lower left')\n",
    "plt.savefig('tau_01.png')\n"
   ]
  },
  {
   "cell_type": "code",
   "execution_count": null,
   "metadata": {},
   "outputs": [],
   "source": [
    "tau = 0.05\n",
    "acc_losses_10, acc_accs_10 = Acc_SGD(X, Y, epochs, 1 / tau, tau)\n",
    "print(acc_losses_10)\n",
    "print(acc_accs_10)\n",
    "\n",
    "plt.plot(range(epochs+1), [math.log10(i)  for i in sgd_losses], \"blue\")\n",
    "plt.plot(range(epochs+1), [math.log10(i)  for i in acc_losses_10], \"black\")\n",
    "plt.grid()\n",
    "plt.xlabel('Number of Effective Passes')\n",
    "plt.ylabel('Log-Loss')\n",
    "plt.legend(['SGD', 'Acc-SGD'], loc='lower left')\n",
    "plt.savefig('tau_005.png')"
   ]
  },
  {
   "cell_type": "code",
   "execution_count": null,
   "metadata": {},
   "outputs": [],
   "source": [
    "tau = 0.01\n",
    "acc_losses_10, acc_accs_10 = Acc_SGD(X, Y, epochs, 1 / tau, tau)\n",
    "print(acc_losses_10)\n",
    "print(acc_accs_10)\n",
    "\n",
    "plt.plot(range(epochs+1), [math.log10(i)  for i in sgd_losses], \"blue\")\n",
    "plt.plot(range(epochs+1), [math.log10(i)  for i in acc_losses_10], \"black\")\n",
    "plt.grid()\n",
    "plt.xlabel('Number of Effective Passes')\n",
    "plt.ylabel('Log-Loss')\n",
    "plt.legend(['SGD', 'Acc-SGD'], loc='lower left')\n",
    "plt.savefig('tau_001.png')"
   ]
  },
  {
   "cell_type": "code",
   "execution_count": null,
   "metadata": {},
   "outputs": [],
   "source": [
    "tau = 0.5\n",
    "acc_losses_10, acc_accs_10 = Acc_SGD(X, Y, epochs, 1 / tau, tau)\n",
    "print(acc_losses_10)\n",
    "print(acc_accs_10)\n",
    "\n",
    "plt.plot(range(epochs+1), [math.log10(i)  for i in sgd_losses], \"blue\")\n",
    "plt.plot(range(epochs+1), [math.log10(i)  for i in acc_losses_10], \"black\")\n",
    "plt.grid()\n",
    "plt.xlabel('Number of Effective Passes')\n",
    "plt.ylabel('Log-Loss')\n",
    "plt.legend(['SGD', 'Acc-SGD'], loc='lower left')\n",
    "plt.savefig('tau_05.png')"
   ]
  }
 ],
 "metadata": {
  "colab": {
   "collapsed_sections": [],
   "name": "EECE 571Z.ipynb",
   "provenance": []
  },
  "kernelspec": {
   "display_name": "Python 3",
   "language": "python",
   "name": "python3"
  },
  "language_info": {
   "codemirror_mode": {
    "name": "ipython",
    "version": 3
   },
   "file_extension": ".py",
   "mimetype": "text/x-python",
   "name": "python",
   "nbconvert_exporter": "python",
   "pygments_lexer": "ipython3",
   "version": "3.10.11"
  }
 },
 "nbformat": 4,
 "nbformat_minor": 1
}
